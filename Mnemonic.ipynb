{
 "cells": [
  {
   "cell_type": "markdown",
   "metadata": {},
   "source": [
    "# \"O pi\", Marta Jucewicz"
   ]
  },
  {
   "cell_type": "markdown",
   "metadata": {},
   "source": [
    "<i> Na początku XVII w. niemiecki matematyk Ludolph van Ceulen, podał rozwinięcie liczby Pi z dokładnością 35 miejsc po przecinku. Po śmierci uczonego liczbę tą wyryto na jego nagrobku i właśnie dzięki niemu liczba Pi bywa nazywana \"ludolfiną\"."
   ]
  },
  {
   "cell_type": "code",
   "execution_count": 2,
   "metadata": {},
   "outputs": [
    {
     "name": "stdout",
     "output_type": "stream",
     "text": [
      "3 1 4 1 5 9 2 6 5 3 5 8 9 7 9 3 2 3 8 4 6 2 6 "
     ]
    }
   ],
   "source": [
    "pi_poem1 = ['Jaś', 'o', 'kole', 'z', 'werwą', 'dyskutuje',\n",
    "            'bo', 'dobrze', 'temat', 'ten', 'czuje',\n",
    "            'Zastąpił', 'ludolfinę', 'słowami', 'wierszyka',\n",
    "            'Czy', 'ty', 'już', 'odgadłeś', 'skąd', 'zmiana', 'ta', 'wynika']\n",
    "\n",
    "for word in pi_poem1:\n",
    "    print(len(word), end=\" \")"
   ]
  },
  {
   "cell_type": "markdown",
   "metadata": {},
   "source": [
    "# Inne:"
   ]
  },
  {
   "cell_type": "code",
   "execution_count": 6,
   "metadata": {},
   "outputs": [
    {
     "name": "stdout",
     "output_type": "stream",
     "text": [
      "3 1 4 1 5 9 2 6 5 3 5 8 9 7 "
     ]
    }
   ],
   "source": [
    "pi_poem2 = ['Kto', 'i', 'bada', 'i', 'liczy', \n",
    "            'Myśliciel', 'to', 'wielki',\n",
    "            'Mylić', 'się', 'zwykł', 'jednakże', 'matematyk', 'wszelki']\n",
    "\n",
    "for word in pi_poem2:\n",
    "    print(len(word), end=\" \")"
   ]
  },
  {
   "cell_type": "code",
   "execution_count": 7,
   "metadata": {},
   "outputs": [
    {
     "name": "stdout",
     "output_type": "stream",
     "text": [
      "3 1 4 1 5 9 2 6 5 3 5 8 9 7 9 "
     ]
    }
   ],
   "source": [
    "pi_poem3 = ['How', 'I', 'want', 'a', 'drink',\n",
    "            'alcoholic', 'of', 'course', \n",
    "            'after', 'the', 'heavy', 'chapters', 'involving', 'quantum', 'mechanics']\n",
    "\n",
    "for word in pi_poem3:\n",
    "    print(len(word), end=\" \")"
   ]
  },
  {
   "cell_type": "code",
   "execution_count": 8,
   "metadata": {},
   "outputs": [
    {
     "name": "stdout",
     "output_type": "stream",
     "text": [
      "2 7 1 8 2 8 1 8 2 8 "
     ]
    }
   ],
   "source": [
    "e_poem = ['We', 'present', 'a', 'mnemonic',\n",
    "           'to', 'remember', 'a', 'constant', 'in', 'analysis']\n",
    "\n",
    "for word in e_poem:\n",
    "    print(len(word), end=\" \")"
   ]
  }
 ],
 "metadata": {
  "celltoolbar": "Raw Cell Format",
  "kernelspec": {
   "display_name": "Python 3",
   "language": "python",
   "name": "python3"
  },
  "language_info": {
   "codemirror_mode": {
    "name": "ipython",
    "version": 3
   },
   "file_extension": ".py",
   "mimetype": "text/x-python",
   "name": "python",
   "nbconvert_exporter": "python",
   "pygments_lexer": "ipython3",
   "version": "3.6.10"
  }
 },
 "nbformat": 4,
 "nbformat_minor": 4
}
